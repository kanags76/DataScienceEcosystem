{
 "cells": [
  {
   "cell_type": "markdown",
   "id": "623912b3-da0f-4e31-be32-352cfaae38b4",
   "metadata": {},
   "source": [
    "# Data Science Tools and Ecosystem"
   ]
  },
  {
   "cell_type": "markdown",
   "id": "7e8f568d-c745-4327-8209-1dcf737b4633",
   "metadata": {},
   "source": [
    "##### In this notebook, Data Science Tools and Ecosystem are summarized by me - Kanagasabapathy Surendran. \n",
    "##### I will try to keep this as concise as possible. \n"
   ]
  },
  {
   "cell_type": "markdown",
   "id": "03472cd5-86d5-4851-b6d9-8f8a16e8e5b6",
   "metadata": {},
   "source": [
    "##### Some of the popular languages that Data Scientists use are:\n",
    "1. Python\n",
    "2. R\n",
    "3. Julia\n",
    "4. C/C++\n",
    "5. Java\n",
    "6. SQL "
   ]
  },
  {
   "cell_type": "markdown",
   "id": "d876f6d0-58e7-4ef3-adae-88a057d2171b",
   "metadata": {},
   "source": [
    "##### Some of the commonly used libraries used by Data Scientists include:\n",
    "1. Numpy\n",
    "2. Pandas\n",
    "3. Scikit-learn\n",
    "4. Seaborn\n",
    "5. Matplotlib\n"
   ]
  },
  {
   "cell_type": "markdown",
   "id": "997e08fb-b066-4b63-963c-68548563ae0b",
   "metadata": {},
   "source": [
    "##### Data Science Tools\n",
    "\n",
    "| Data Science Tools |\n",
    "| :- |\n",
    "| Jupyter Notebooks |\n",
    "| R Studio |\n",
    "| Zeppelin Notebooks |"
   ]
  },
  {
   "cell_type": "markdown",
   "id": "465b86aa-6ca6-435f-a7a7-d7ff899c3590",
   "metadata": {},
   "source": [
    "### Below are a few examples of evaluating arithmetic expressions in Python.\n",
    "\n"
   ]
  },
  {
   "cell_type": "code",
   "execution_count": 5,
   "id": "a123f479-99be-407f-b1ef-16ea1dfab666",
   "metadata": {},
   "outputs": [
    {
     "data": {
      "text/plain": [
       "17"
      ]
     },
     "execution_count": 5,
     "metadata": {},
     "output_type": "execute_result"
    }
   ],
   "source": [
    "# this is simple arithmetic expression to mutiply then add integers\n",
    "(3*4)+5"
   ]
  },
  {
   "cell_type": "code",
   "execution_count": 6,
   "id": "950b74f1-1674-418b-8b52-f08d0fab6760",
   "metadata": {},
   "outputs": [
    {
     "data": {
      "text/plain": [
       "3.3333333333333335"
      ]
     },
     "execution_count": 6,
     "metadata": {},
     "output_type": "execute_result"
    }
   ],
   "source": [
    "#This will convert 200 minutes to hours by dividing by 60 \n",
    "200/60"
   ]
  },
  {
   "cell_type": "markdown",
   "id": "0091b21a-16a4-41a8-97ae-b7cdb59d6142",
   "metadata": {},
   "source": [
    "### **Objectives**\n",
    "\n",
    "##### * List popular languages for Data Science\n",
    "##### * List of commonly used libraries \n",
    "##### * List of Data Science tools\n"
   ]
  },
  {
   "cell_type": "markdown",
   "id": "27ec6cf8-5d17-41a2-816c-0f4c56fecdbc",
   "metadata": {},
   "source": [
    "## Author \n",
    "Kanagasabapathy Surendran"
   ]
  },
  {
   "cell_type": "code",
   "execution_count": null,
   "id": "9cd622ce-5d55-4c9f-8f66-b62de890cced",
   "metadata": {},
   "outputs": [],
   "source": []
  }
 ],
 "metadata": {
  "kernelspec": {
   "display_name": "Python 3 (ipykernel)",
   "language": "python",
   "name": "python3"
  },
  "language_info": {
   "codemirror_mode": {
    "name": "ipython",
    "version": 3
   },
   "file_extension": ".py",
   "mimetype": "text/x-python",
   "name": "python",
   "nbconvert_exporter": "python",
   "pygments_lexer": "ipython3",
   "version": "3.10.11"
  }
 },
 "nbformat": 4,
 "nbformat_minor": 5
}
